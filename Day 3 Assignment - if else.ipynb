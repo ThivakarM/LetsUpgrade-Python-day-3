{
 "cells": [
  {
   "cell_type": "markdown",
   "metadata": {},
   "source": [
    "# Question 1\n",
    "\n",
    "You all are Pilots, you want to land a plane safely, so altitude required for landing a plane is 1000ft, it it is less than tell pilot to land the plane, or it is more than that but less than 5000ft ask the pilot to \"come down to 1000ft\", else if it more than 5000ft ask the pilot to go around and try later\"\n",
    "\n",
    "Example Input 1000\n",
    "\n",
    "Output - Safe to Land\n",
    "\n",
    "Example: Input - 4500\n",
    "\n",
    "Output - Bring down to 1000\n",
    "\n",
    "Example : Input - 6500\n",
    "\n",
    "Output - Turn Around"
   ]
  },
  {
   "cell_type": "code",
   "execution_count": 1,
   "metadata": {},
   "outputs": [
    {
     "name": "stdout",
     "output_type": "stream",
     "text": [
      "Enter the distance in ft: 2309\n",
      "bring down too 1000\n"
     ]
    }
   ],
   "source": [
    "n=int(input(\"Enter the distance in ft: \"))\n",
    "if n<=1000:\n",
    "    print('safe to land')\n",
    "elif n<=5000:\n",
    "    print('bring down too 1000')\n",
    "else:\n",
    "    print('Turn around')"
   ]
  },
  {
   "cell_type": "code",
   "execution_count": null,
   "metadata": {},
   "outputs": [],
   "source": []
  }
 ],
 "metadata": {
  "kernelspec": {
   "display_name": "Python 3",
   "language": "python",
   "name": "python3"
  },
  "language_info": {
   "codemirror_mode": {
    "name": "ipython",
    "version": 3
   },
   "file_extension": ".py",
   "mimetype": "text/x-python",
   "name": "python",
   "nbconvert_exporter": "python",
   "pygments_lexer": "ipython3",
   "version": "3.8.3"
  }
 },
 "nbformat": 4,
 "nbformat_minor": 4
}
